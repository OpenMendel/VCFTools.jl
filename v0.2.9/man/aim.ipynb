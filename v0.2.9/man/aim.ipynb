{
 "cells": [
  {
   "cell_type": "markdown",
   "metadata": {},
   "source": [
    "# Ancestry Informative Markers\n",
    "\n",
    "When sample origins are available, one can select SNPs that are most informative at predicting ancestry for your data — the best Ancestry Informative Markers (AIMs)."
   ]
  },
  {
   "cell_type": "markdown",
   "metadata": {},
   "source": [
    "## Example data\n",
    "\n",
    "For illustration, we use [chromosome 22 data](http://bochet.gcc.biostat.washington.edu/beagle/1000_Genomes_phase3_v5a/b37.vcf/) (129 MB) from 1000 genomes project. As shown below, this data contains 424147 SNPs and 2504 samples."
   ]
  },
  {
   "cell_type": "code",
   "execution_count": 1,
   "metadata": {
    "collapsed": false
   },
   "outputs": [],
   "source": [
    "using Revise\n",
    "using VCFTools\n",
    "using Random\n",
    "using CSV\n",
    "using DataFrames\n",
    "using StatsBase"
   ]
  },
  {
   "cell_type": "code",
   "execution_count": 2,
   "metadata": {
    "collapsed": false
   },
   "outputs": [
    {
     "name": "stdout",
     "output_type": "stream",
     "text": [
      "nrecords(vcffile) = 424147\n",
      "nsamples(vcffile) = 2504\n"
     ]
    }
   ],
   "source": [
    "# download data\n",
    "vcffile = \"chr22.1kg.phase3.v5a.vcf.gz\"\n",
    "isfile(vcffile) || \n",
    "    download(\"http://bochet.gcc.biostat.washington.edu/beagle/1000_Genomes_phase3_v5a/b37.vcf/chr22.1kg.phase3.v5a.vcf.gz\", \n",
    "    joinpath(pwd(), vcffile))\n",
    "\n",
    "# compute simple summary statistics\n",
    "@show nrecords(vcffile)\n",
    "@show nsamples(vcffile);"
   ]
  },
  {
   "cell_type": "markdown",
   "metadata": {},
   "source": [
    "Note the [population codes](ftp://ftp.1000genomes.ebi.ac.uk/vol1/ftp/data_collections/1000_genomes_project/data/) for 1000 genome's samples are explained [here](https://www.internationalgenome.org/category/population/). "
   ]
  },
  {
   "cell_type": "markdown",
   "metadata": {},
   "source": [
    "## Preprocess data\n",
    "\n",
    "To compute AIM markers, we need:\n",
    "+ Origin (country/continent/population) of every sample stored in a dictionary\n",
    "+ Complete SNP information. If any sample contains missing genotypes, the given SNP will have p-value of 1. \n",
    "\n",
    "The goal is to save the sample origin information into a dictionary where keys are sample IDs and values are origin. Here, the population origin are stored in the file `1000genomes.population.txt` under `VCFTools/test`."
   ]
  },
  {
   "cell_type": "code",
   "execution_count": 3,
   "metadata": {
    "collapsed": false
   },
   "outputs": [
    {
     "data": {
      "text/plain": [
       "Dict{String, String} with 2504 entries:\n",
       "  \"HG01791\" => \"GBR\"\n",
       "  \"HG02736\" => \"PJL\"\n",
       "  \"HG00182\" => \"FIN\"\n",
       "  \"HG03914\" => \"BEB\"\n",
       "  \"HG00149\" => \"GBR\"\n",
       "  \"NA12156\" => \"CEU\"\n",
       "  \"HG02642\" => \"GWD\"\n",
       "  \"HG02851\" => \"GWD\"\n",
       "  \"NA19835\" => \"ASW\"\n",
       "  \"NA19019\" => \"LWK\"\n",
       "  \"HG01131\" => \"CLM\"\n",
       "  \"HG03578\" => \"MSL\"\n",
       "  \"NA18550\" => \"CHB\"\n",
       "  \"HG02401\" => \"CDX\"\n",
       "  \"HG01350\" => \"CLM\"\n",
       "  \"HG03973\" => \"ITU\"\n",
       "  \"NA07000\" => \"CEU\"\n",
       "  \"HG01709\" => \"IBS\"\n",
       "  \"HG01395\" => \"PUR\"\n",
       "  \"HG01980\" => \"PEL\"\n",
       "  \"HG01979\" => \"PEL\"\n",
       "  \"HG01122\" => \"CLM\"\n",
       "  \"HG03869\" => \"ITU\"\n",
       "  \"HG03729\" => \"ITU\"\n",
       "  \"NA19920\" => \"ASW\"\n",
       "  ⋮         => ⋮"
      ]
     },
     "execution_count": 3,
     "metadata": {},
     "output_type": "execute_result"
    }
   ],
   "source": [
    "# cd to test folder\n",
    "cd(normpath(VCFTools.datadir()))\n",
    "\n",
    "# read population origin into a dataframe\n",
    "df = CSV.read(\"1000genomes.population.txt\", DataFrame)\n",
    "\n",
    "# create dictionary with key = ID, value = population \n",
    "sampleID_to_population = Dict{String, String}()\n",
    "for (id, population) in eachrow(df)\n",
    "     sampleID_to_population[id] = population\n",
    "end\n",
    "sampleID_to_population"
   ]
  },
  {
   "cell_type": "markdown",
   "metadata": {},
   "source": [
    "## Run AIM selection\n",
    "\n",
    "A p-value will be computed for each SNP. Smaller p-values indicate more ancestry informative."
   ]
  },
  {
   "cell_type": "code",
   "execution_count": 4,
   "metadata": {
    "collapsed": false
   },
   "outputs": [
    {
     "name": "stderr",
     "output_type": "stream",
     "text": [
      "\u001b[32mProgress: 100%|█████████████████████████████████████████| Time: 0:05:45\u001b[39m\n"
     ]
    },
    {
     "data": {
      "text/plain": [
       "424147-element Vector{Float64}:\n",
       " 1.0\n",
       " 1.0\n",
       " 1.0\n",
       " 1.0\n",
       " 1.0\n",
       " 1.0\n",
       " 1.0\n",
       " 1.0\n",
       " 1.0\n",
       " 1.0\n",
       " 5.684678238417218e-120\n",
       " 2.2097628180404582e-104\n",
       " 1.0\n",
       " ⋮\n",
       " 1.0\n",
       " 1.0\n",
       " 3.918650824065397e-73\n",
       " 2.2771505483860234e-77\n",
       " 1.0\n",
       " 1.8351937329381248e-92\n",
       " 1.0\n",
       " 1.0\n",
       " 1.0\n",
       " 3.0769656913253715e-14\n",
       " 1.0\n",
       " 1.0"
      ]
     },
     "execution_count": 4,
     "metadata": {},
     "output_type": "execute_result"
    }
   ],
   "source": [
    "pvals = VCFTools.aim_select(vcffile, sampleID_to_population)"
   ]
  },
  {
   "cell_type": "markdown",
   "metadata": {},
   "source": [
    "We can rank these p-values"
   ]
  },
  {
   "cell_type": "code",
   "execution_count": 7,
   "metadata": {
    "collapsed": false
   },
   "outputs": [
    {
     "name": "stdout",
     "output_type": "stream",
     "text": [
      "df[1:20, :] = 20×2 DataFrame\n",
      " Row │ pvalues       rank\n",
      "     │ Float64       Int64\n",
      "─────┼──────────────────────\n",
      "   1 │ 1.0           193453\n",
      "   2 │ 1.0           193454\n",
      "   3 │ 1.0           193455\n",
      "   4 │ 1.0           193456\n",
      "   5 │ 1.0           193457\n",
      "   6 │ 1.0           193458\n",
      "   7 │ 1.0           193459\n",
      "   8 │ 1.0           193460\n",
      "   9 │ 1.0           193461\n",
      "  10 │ 1.0           193462\n",
      "  11 │ 5.68468e-120   39800\n",
      "  12 │ 2.20976e-104   49662\n",
      "  13 │ 1.0           193463\n",
      "  14 │ 1.0           193464\n",
      "  15 │ 1.0           193465\n",
      "  16 │ 2.00626e-61    96498\n",
      "  17 │ 1.0           193466\n",
      "  18 │ 1.4409e-78     73608\n",
      "  19 │ 1.0           193467\n",
      "  20 │ 1.0           193468\n"
     ]
    }
   ],
   "source": [
    "aim_rank = ordinalrank(pvals)\n",
    "df = DataFrame(pvalues=pvals, rank=aim_rank)\n",
    "@show df[1:20, :]; # list 20 rows"
   ]
  }
 ],
 "metadata": {
  "@webio": {
   "lastCommId": null,
   "lastKernelId": null
  },
  "kernelspec": {
   "display_name": "Julia 1.6.0",
   "language": "julia",
   "name": "julia-1.6"
  },
  "language_info": {
   "file_extension": ".jl",
   "mimetype": "application/julia",
   "name": "julia",
   "version": "1.6.0"
  }
 },
 "nbformat": 4,
 "nbformat_minor": 2
}
