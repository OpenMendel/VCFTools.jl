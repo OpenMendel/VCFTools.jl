{
 "cells": [
  {
   "cell_type": "markdown",
   "metadata": {},
   "source": [
    "# Ancestry Informative Markers\n",
    "\n",
    "When sample origins are available, one can select SNPs that are most informative at predicting ancestry for your data — the best Ancestry Informative Markers (AIMs)."
   ]
  },
  {
   "cell_type": "markdown",
   "metadata": {},
   "source": [
    "## Example data\n",
    "\n",
    "For illustration, we use [chromosome 22 data](http://bochet.gcc.biostat.washington.edu/beagle/1000_Genomes_phase3_v5a/b37.vcf/) (129 MB) from 1000 genomes project. As show below, this data contains 424147 SNPs and 2504 samples."
   ]
  },
  {
   "cell_type": "code",
   "execution_count": 1,
   "metadata": {
    "collapsed": false
   },
   "outputs": [],
   "source": [
    "using Revise\n",
    "using VCFTools\n",
    "using Random\n",
    "using CSV\n",
    "using DataFrames\n",
    "using StatsBase"
   ]
  },
  {
   "cell_type": "code",
   "execution_count": 2,
   "metadata": {
    "collapsed": false
   },
   "outputs": [
    {
     "name": "stdout",
     "output_type": "stream",
     "text": [
      "nrecords(vcffile) = 424147\n",
      "nsamples(vcffile) = 2504\n"
     ]
    }
   ],
   "source": [
    "# download data\n",
    "vcffile = \"chr22.1kg.phase3.v5a.vcf.gz\"\n",
    "isfile(vcffile) || \n",
    "    download(\"http://bochet.gcc.biostat.washington.edu/beagle/1000_Genomes_phase3_v5a/b37.vcf/chr22.1kg.phase3.v5a.vcf.gz\", \n",
    "    joinpath(pwd(), vcffile))\n",
    "\n",
    "# compute simple summary statistics\n",
    "@show nrecords(vcffile)\n",
    "@show nsamples(vcffile);"
   ]
  },
  {
   "cell_type": "markdown",
   "metadata": {},
   "source": [
    "Next the [population codes](ftp://ftp.1000genomes.ebi.ac.uk/vol1/ftp/data_collections/1000_genomes_project/data/) for 1000 genome's samples are explained [here](https://www.internationalgenome.org/category/population/). "
   ]
  },
  {
   "cell_type": "markdown",
   "metadata": {},
   "source": [
    "## Preprocess data\n",
    "\n",
    "To compute AIM markers, we need:\n",
    "+ Origin (country/continent/population) of every sample stored in a dictionary\n",
    "+ Complete SNP information. If any sample contains missing genotypes, the given SNP will have p-value of 1. \n",
    "\n",
    "The goal is to save the sample origin information into a dictionary where keys are sample IDs and values are origin. Here, the population origin are stored in the file `1000genomes.population.txt` under `VCFTools/test`."
   ]
  },
  {
   "cell_type": "code",
   "execution_count": 3,
   "metadata": {
    "collapsed": false
   },
   "outputs": [
    {
     "data": {
      "text/plain": [
       "Dict{String,String} with 2504 entries:\n",
       "  \"HG01791\" => \"GBR\"\n",
       "  \"HG02736\" => \"PJL\"\n",
       "  \"HG00182\" => \"FIN\"\n",
       "  \"HG03914\" => \"BEB\"\n",
       "  \"HG00149\" => \"GBR\"\n",
       "  \"NA12156\" => \"CEU\"\n",
       "  \"HG02642\" => \"GWD\"\n",
       "  \"HG02851\" => \"GWD\"\n",
       "  \"NA19835\" => \"ASW\"\n",
       "  \"NA19019\" => \"LWK\"\n",
       "  \"HG01131\" => \"CLM\"\n",
       "  \"HG03578\" => \"MSL\"\n",
       "  \"NA18550\" => \"CHB\"\n",
       "  \"HG02401\" => \"CDX\"\n",
       "  \"HG01350\" => \"CLM\"\n",
       "  \"HG03973\" => \"ITU\"\n",
       "  \"NA07000\" => \"CEU\"\n",
       "  \"HG01709\" => \"IBS\"\n",
       "  \"HG01395\" => \"PUR\"\n",
       "  \"HG01980\" => \"PEL\"\n",
       "  \"HG01979\" => \"PEL\"\n",
       "  \"HG01122\" => \"CLM\"\n",
       "  \"HG03869\" => \"ITU\"\n",
       "  \"HG03729\" => \"ITU\"\n",
       "  \"NA19920\" => \"ASW\"\n",
       "  ⋮         => ⋮"
      ]
     },
     "execution_count": 3,
     "metadata": {},
     "output_type": "execute_result"
    }
   ],
   "source": [
    "# cd to test folder\n",
    "joinpath(pathof(VCFTools), \"test\")\n",
    "\n",
    "# read population origin into a dataframe\n",
    "df = CSV.read(\"1000genomes.population.txt\")\n",
    "\n",
    "# create dictionary with key = ID, value = population \n",
    "sampleID_to_population = Dict{String, String}()\n",
    "for (id, population) in eachrow(df)\n",
    "     sampleID_to_population[id] = population\n",
    "end\n",
    "sampleID_to_population"
   ]
  },
  {
   "cell_type": "markdown",
   "metadata": {},
   "source": [
    "## Run AIM selection\n",
    "\n",
    "A p-value will be computed for each SNP. Smaller p-values indicate more ancestry informative."
   ]
  },
  {
   "cell_type": "code",
   "execution_count": 4,
   "metadata": {
    "collapsed": false
   },
   "outputs": [
    {
     "name": "stderr",
     "output_type": "stream",
     "text": [
      "\u001b[32mProgress: 100%|█████████████████████████████████████████| Time: 0:04:58\u001b[39m\n"
     ]
    },
    {
     "data": {
      "text/plain": [
       "424147-element Array{Float64,1}:\n",
       " 1.0\n",
       " 1.0\n",
       " 1.0\n",
       " 1.0\n",
       " 1.0\n",
       " 1.0\n",
       " 1.0\n",
       " 1.0\n",
       " 1.0\n",
       " 1.0\n",
       " 5.684678238417218e-120\n",
       " 2.2097628180404582e-104\n",
       " 1.0\n",
       " ⋮\n",
       " 1.0\n",
       " 1.0\n",
       " 3.918650824065397e-73\n",
       " 2.2771505483860234e-77\n",
       " 1.0\n",
       " 1.8351937329381248e-92\n",
       " 1.0\n",
       " 1.0\n",
       " 1.0\n",
       " 3.0769656913253715e-14\n",
       " 1.0\n",
       " 1.0"
      ]
     },
     "execution_count": 4,
     "metadata": {},
     "output_type": "execute_result"
    }
   ],
   "source": [
    "pvals = VCFTools.aim_select(vcffile, sampleID_to_population)"
   ]
  },
  {
   "cell_type": "markdown",
   "metadata": {},
   "source": [
    "We can rank these p-values"
   ]
  },
  {
   "cell_type": "code",
   "execution_count": 5,
   "metadata": {
    "collapsed": false
   },
   "outputs": [
    {
     "data": {
      "text/html": [
       "<table class=\"data-frame\"><thead><tr><th></th><th>pvalues</th><th>rank</th></tr><tr><th></th><th>Float64</th><th>Int64</th></tr></thead><tbody><p>424,147 rows × 2 columns</p><tr><th>1</th><td>1.0</td><td>193453</td></tr><tr><th>2</th><td>1.0</td><td>193454</td></tr><tr><th>3</th><td>1.0</td><td>193455</td></tr><tr><th>4</th><td>1.0</td><td>193456</td></tr><tr><th>5</th><td>1.0</td><td>193457</td></tr><tr><th>6</th><td>1.0</td><td>193458</td></tr><tr><th>7</th><td>1.0</td><td>193459</td></tr><tr><th>8</th><td>1.0</td><td>193460</td></tr><tr><th>9</th><td>1.0</td><td>193461</td></tr><tr><th>10</th><td>1.0</td><td>193462</td></tr><tr><th>11</th><td>5.68468e-120</td><td>39800</td></tr><tr><th>12</th><td>2.20976e-104</td><td>49662</td></tr><tr><th>13</th><td>1.0</td><td>193463</td></tr><tr><th>14</th><td>1.0</td><td>193464</td></tr><tr><th>15</th><td>1.0</td><td>193465</td></tr><tr><th>16</th><td>2.00626e-61</td><td>96498</td></tr><tr><th>17</th><td>1.0</td><td>193466</td></tr><tr><th>18</th><td>1.4409e-78</td><td>73608</td></tr><tr><th>19</th><td>1.0</td><td>193467</td></tr><tr><th>20</th><td>1.0</td><td>193468</td></tr><tr><th>21</th><td>1.17489e-25</td><td>176783</td></tr><tr><th>22</th><td>1.0</td><td>193469</td></tr><tr><th>23</th><td>1.0</td><td>193470</td></tr><tr><th>24</th><td>1.66383e-76</td><td>75835</td></tr><tr><th>25</th><td>1.0</td><td>193471</td></tr><tr><th>26</th><td>1.0</td><td>193472</td></tr><tr><th>27</th><td>7.71708e-107</td><td>47963</td></tr><tr><th>28</th><td>1.18618e-22</td><td>181376</td></tr><tr><th>29</th><td>1.0</td><td>193473</td></tr><tr><th>30</th><td>1.0</td><td>193474</td></tr><tr><th>&vellip;</th><td>&vellip;</td><td>&vellip;</td></tr></tbody></table>"
      ],
      "text/latex": [
       "\\begin{tabular}{r|cc}\n",
       "\t& pvalues & rank\\\\\n",
       "\t\\hline\n",
       "\t& Float64 & Int64\\\\\n",
       "\t\\hline\n",
       "\t1 & 1.0 & 193453 \\\\\n",
       "\t2 & 1.0 & 193454 \\\\\n",
       "\t3 & 1.0 & 193455 \\\\\n",
       "\t4 & 1.0 & 193456 \\\\\n",
       "\t5 & 1.0 & 193457 \\\\\n",
       "\t6 & 1.0 & 193458 \\\\\n",
       "\t7 & 1.0 & 193459 \\\\\n",
       "\t8 & 1.0 & 193460 \\\\\n",
       "\t9 & 1.0 & 193461 \\\\\n",
       "\t10 & 1.0 & 193462 \\\\\n",
       "\t11 & 5.68468e-120 & 39800 \\\\\n",
       "\t12 & 2.20976e-104 & 49662 \\\\\n",
       "\t13 & 1.0 & 193463 \\\\\n",
       "\t14 & 1.0 & 193464 \\\\\n",
       "\t15 & 1.0 & 193465 \\\\\n",
       "\t16 & 2.00626e-61 & 96498 \\\\\n",
       "\t17 & 1.0 & 193466 \\\\\n",
       "\t18 & 1.4409e-78 & 73608 \\\\\n",
       "\t19 & 1.0 & 193467 \\\\\n",
       "\t20 & 1.0 & 193468 \\\\\n",
       "\t21 & 1.17489e-25 & 176783 \\\\\n",
       "\t22 & 1.0 & 193469 \\\\\n",
       "\t23 & 1.0 & 193470 \\\\\n",
       "\t24 & 1.66383e-76 & 75835 \\\\\n",
       "\t25 & 1.0 & 193471 \\\\\n",
       "\t26 & 1.0 & 193472 \\\\\n",
       "\t27 & 7.71708e-107 & 47963 \\\\\n",
       "\t28 & 1.18618e-22 & 181376 \\\\\n",
       "\t29 & 1.0 & 193473 \\\\\n",
       "\t30 & 1.0 & 193474 \\\\\n",
       "\t$\\dots$ & $\\dots$ & $\\dots$ \\\\\n",
       "\\end{tabular}\n"
      ],
      "text/plain": [
       "424147×2 DataFrame\n",
       "│ Row    │ pvalues     │ rank   │\n",
       "│        │ \u001b[90mFloat64\u001b[39m     │ \u001b[90mInt64\u001b[39m  │\n",
       "├────────┼─────────────┼────────┤\n",
       "│ 1      │ 1.0         │ 193453 │\n",
       "│ 2      │ 1.0         │ 193454 │\n",
       "│ 3      │ 1.0         │ 193455 │\n",
       "│ 4      │ 1.0         │ 193456 │\n",
       "│ 5      │ 1.0         │ 193457 │\n",
       "│ 6      │ 1.0         │ 193458 │\n",
       "│ 7      │ 1.0         │ 193459 │\n",
       "│ 8      │ 1.0         │ 193460 │\n",
       "│ 9      │ 1.0         │ 193461 │\n",
       "│ 10     │ 1.0         │ 193462 │\n",
       "⋮\n",
       "│ 424137 │ 1.0         │ 424141 │\n",
       "│ 424138 │ 3.91865e-73 │ 79955  │\n",
       "│ 424139 │ 2.27715e-77 │ 74913  │\n",
       "│ 424140 │ 1.0         │ 424142 │\n",
       "│ 424141 │ 1.83519e-92 │ 59712  │\n",
       "│ 424142 │ 1.0         │ 424143 │\n",
       "│ 424143 │ 1.0         │ 424144 │\n",
       "│ 424144 │ 1.0         │ 424145 │\n",
       "│ 424145 │ 3.07697e-14 │ 190324 │\n",
       "│ 424146 │ 1.0         │ 424146 │\n",
       "│ 424147 │ 1.0         │ 424147 │"
      ]
     },
     "execution_count": 5,
     "metadata": {},
     "output_type": "execute_result"
    }
   ],
   "source": [
    "aim_rank = ordinalrank(pvals)\n",
    "DataFrame(pvalues=pvals, rank=aim_rank)"
   ]
  }
 ],
 "metadata": {
  "@webio": {
   "lastCommId": null,
   "lastKernelId": null
  },
  "kernelspec": {
   "display_name": "Julia 1.5.0",
   "language": "julia",
   "name": "julia-1.5"
  },
  "language_info": {
   "file_extension": ".jl",
   "mimetype": "application/julia",
   "name": "julia",
   "version": "1.5.0"
  }
 },
 "nbformat": 4,
 "nbformat_minor": 2
}
