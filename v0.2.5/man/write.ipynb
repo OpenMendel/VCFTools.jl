{
 "cells": [
  {
   "cell_type": "markdown",
   "metadata": {},
   "source": [
    "# Write\n",
    "\n",
    "Sometimes one wishes to save a numeric matrix to VCF file. This can be accomplished by the [write_vcf](https://openmendel.github.io/VCFTools.jl/dev/man/api/#VCFTools.write_vcf) function."
   ]
  },
  {
   "cell_type": "code",
   "execution_count": 1,
   "metadata": {
    "collapsed": false
   },
   "outputs": [],
   "source": [
    "using VCFTools\n",
    "using Random\n",
    "using Test"
   ]
  },
  {
   "cell_type": "markdown",
   "metadata": {},
   "source": [
    "## Phased genotypes\n",
    "\n",
    "Let us simulate haplotypes `H1` and `H2`, where each row is a haplotype and each column is a SNP. So Sample 1's gegnotype is `H1[1, :] + H2[1, :]`. We will save these haplotypes into `0|0, 0|1, 1|0, 1|1` accordingly. "
   ]
  },
  {
   "cell_type": "code",
   "execution_count": 2,
   "metadata": {
    "collapsed": false
   },
   "outputs": [],
   "source": [
    "H1 = bitrand(100, 200) # simulated haplotype 1\n",
    "H2 = bitrand(100, 200) # simulated haplotype 2\n",
    "write_vcf(\"test.write.vcf.gz\", H1, H2) # write routine"
   ]
  },
  {
   "cell_type": "markdown",
   "metadata": {},
   "source": [
    "The writen file can of course be re-imported, and we can check that they are the same as H1 and H2:"
   ]
  },
  {
   "cell_type": "code",
   "execution_count": 3,
   "metadata": {
    "collapsed": false
   },
   "outputs": [
    {
     "data": {
      "text/plain": [
       "\u001b[32m\u001b[1mTest Passed\u001b[22m\u001b[39m"
      ]
     },
     "execution_count": 3,
     "metadata": {},
     "output_type": "execute_result"
    }
   ],
   "source": [
    "H = convert_ht(Bool, \"test.write.vcf.gz\")\n",
    "@test all(H1 .== view(H, 1:2:size(H, 1), :))\n",
    "@test all(H2 .== view(H, 2:2:size(H, 1), :))"
   ]
  },
  {
   "cell_type": "markdown",
   "metadata": {},
   "source": [
    "## Unphased genotypes\n",
    "\n",
    "Similarly, `write_vcf` can also save unphased genotypes stored in a numeric matrix `X`. In this case, all heterozygous genotypes will be saved as `1/0`. "
   ]
  },
  {
   "cell_type": "code",
   "execution_count": 4,
   "metadata": {
    "collapsed": true
   },
   "outputs": [],
   "source": [
    "X = H1 + H2\n",
    "write_vcf(\"test.write.vcf.gz\", X)"
   ]
  },
  {
   "cell_type": "markdown",
   "metadata": {},
   "source": [
    "We can also check that the written VCF file is the same as the original after re-importing it"
   ]
  },
  {
   "cell_type": "code",
   "execution_count": 5,
   "metadata": {
    "collapsed": false
   },
   "outputs": [
    {
     "data": {
      "text/plain": [
       "\u001b[32m\u001b[1mTest Passed\u001b[22m\u001b[39m"
      ]
     },
     "execution_count": 5,
     "metadata": {},
     "output_type": "execute_result"
    }
   ],
   "source": [
    "G = convert_gt(Float64, \"test.write.vcf.gz\")\n",
    "@test all(G .== X)"
   ]
  },
  {
   "cell_type": "code",
   "execution_count": 6,
   "metadata": {
    "collapsed": true
   },
   "outputs": [],
   "source": [
    "# clean up\n",
    "rm(\"test.write.vcf.gz\", force=true)"
   ]
  }
 ],
 "metadata": {
  "kernelspec": {
   "display_name": "Julia 1.6.0",
   "language": "julia",
   "name": "julia-1.6"
  },
  "language_info": {
   "file_extension": ".jl",
   "mimetype": "application/julia",
   "name": "julia",
   "version": "1.6.0"
  }
 },
 "nbformat": 4,
 "nbformat_minor": 2
}
